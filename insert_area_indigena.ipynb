{
 "cells": [
  {
   "cell_type": "code",
   "execution_count": 4,
   "id": "58d9ff4f",
   "metadata": {},
   "outputs": [],
   "source": [
    "\n",
    "from neo4j import GraphDatabase\n",
    "import DATABASE_CONFIG\n",
    "\n",
    "# URI examples: \"neo4j://localhost\", \"neo4j+s://xxx.databases.neo4j.io\"\n",
    "URI = \"neo4j://localhost\"\n",
    "AUTH = (\"neo4j\", DATABASE_CONFIG.DB_PASSWORD)\n",
    "\n"
   ]
  },
  {
   "cell_type": "code",
   "execution_count": 5,
   "id": "86077927",
   "metadata": {},
   "outputs": [],
   "source": [
    "with GraphDatabase.driver(URI, auth=AUTH) as driver:\n",
    "    driver.verify_connectivity()\n",
    "    driver.execute_query(\n",
    "        \"CREATE CONSTRAINT id_area_indigena_constraint FOR (r:AreaIndigena) REQUIRE r.id_area_indigena IS UNIQUE\"\n",
    "    )\n",
    "    driver.execute_query(\n",
    "        \"CREATE CONSTRAINT nome_area_indigena_constraint FOR (r:AreaIndigena) REQUIRE r.nome IS UNIQUE\"\n",
    "    )"
   ]
  },
  {
   "cell_type": "code",
   "execution_count": 6,
   "id": "062163e2",
   "metadata": {},
   "outputs": [],
   "source": [
    "with GraphDatabase.driver(URI, auth=AUTH) as driver:\n",
    "    driver.verify_connectivity()\n",
    "    driver.execute_query(\n",
    "        \"LOAD CSV WITH HEADERS FROM 'file:///area_indigena.csv' AS csvLine \"\n",
    "        \"CREATE (r:AreaIndigena {id_area_indigena: toInteger(csvLine.id_area_indigena), nome: csvLine.nome})\"\n",
    "    )"
   ]
  }
 ],
 "metadata": {
  "kernelspec": {
   "display_name": "mc536",
   "language": "python",
   "name": "python3"
  },
  "language_info": {
   "codemirror_mode": {
    "name": "ipython",
    "version": 3
   },
   "file_extension": ".py",
   "mimetype": "text/x-python",
   "name": "python",
   "nbconvert_exporter": "python",
   "pygments_lexer": "ipython3",
   "version": "3.13.2"
  }
 },
 "nbformat": 4,
 "nbformat_minor": 5
}

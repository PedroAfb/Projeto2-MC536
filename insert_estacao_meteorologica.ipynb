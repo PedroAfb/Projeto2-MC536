{
 "cells": [
  {
   "cell_type": "code",
   "execution_count": 1,
   "id": "f89abe31",
   "metadata": {},
   "outputs": [],
   "source": [
    "from neo4j import GraphDatabase\n",
    "import DATABASE_CONFIG\n",
    "\n",
    "# URI examples: \"neo4j://localhost\", \"neo4j+s://xxx.databases.neo4j.io\"\n",
    "URI = \"neo4j://localhost\"\n",
    "AUTH = (\"neo4j\", DATABASE_CONFIG.DB_PASSWORD)"
   ]
  },
  {
   "cell_type": "code",
   "execution_count": 2,
   "id": "64ee3107",
   "metadata": {},
   "outputs": [],
   "source": [
    "with GraphDatabase.driver(URI, auth=AUTH) as driver:\n",
    "    driver.verify_connectivity()\n",
    "    driver.execute_query(\n",
    "        \"CREATE CONSTRAINT id_estacao_meteorologica_constraint FOR (r:EstacaoMeteorologica) REQUIRE r.id_estacao_meteorologica IS UNIQUE\"\n",
    "    )\n",
    "    driver.execute_query(\n",
    "        \"CREATE CONSTRAINT nome_estacao_meteorologica_constraint FOR (r:EstacaoMeteorologica) REQUIRE r.nome IS UNIQUE\"\n",
    "    )\n"
   ]
  },
  {
   "cell_type": "code",
   "execution_count": 3,
   "id": "94625c10",
   "metadata": {},
   "outputs": [],
   "source": [
    "with GraphDatabase.driver(URI, auth=AUTH) as driver:\n",
    "    driver.verify_connectivity()\n",
    "    driver.execute_query(\n",
    "        \"LOAD CSV WITH HEADERS FROM 'file:///estacao_meteorologica.csv' AS csvLine \"\n",
    "        \"CREATE (r:EstacaoMeteorologica {id_estacao_meteorologica: toInteger(csvLine.id_estacao_meteorologica), nome: csvLine.nome, latitude: toFloat(csvLine.latitude), longitude: toFloat(csvLine.longitude), altitude: toFloat(csvLine.altitude), data_fundacao: date(csvLine.data_fundacao)})\"\n",
    "    )"
   ]
  },
  {
   "cell_type": "code",
   "execution_count": 4,
   "id": "91b169de",
   "metadata": {},
   "outputs": [],
   "source": [
    "with GraphDatabase.driver(URI, auth=AUTH) as driver:\n",
    "    driver.verify_connectivity()\n",
    "    driver.execute_query(\n",
    "        \"LOAD CSV WITH HEADERS FROM 'file:///estacao_meteorologica.csv' AS csvLine \"\n",
    "        \"MATCH (e:EstacaoMeteorologica {id_estacao_meteorologica: toInteger(csvLine.id_estacao_meteorologica)}) \"\n",
    "        \"MATCH (c:Cidade {id_cidade: toInteger(csvLine.id_cidade)}) \"\n",
    "        \"MERGE (e)-[:Pertence]->(c) \"\n",
    "        )"
   ]
  },
  {
   "cell_type": "code",
   "execution_count": 8,
   "id": "e82cea0f",
   "metadata": {},
   "outputs": [],
   "source": [
    "with GraphDatabase.driver(URI, auth=AUTH) as driver:\n",
    "    driver.verify_connectivity()\n",
    "    driver.execute_query(\n",
    "        \"\"\"\n",
    "        LOAD CSV WITH HEADERS FROM 'file:///relatorio_meteorologia.csv' AS csvLine\n",
    "        MATCH (e:EstacaoMeteorologica {id_estacao_meteorologica: toInteger(csvLine.id_estacao_meteorologica)})-[:Pertence]->(c:Cidade)\n",
    "        CREATE (e)-[d:Dados_Meteorologicos {\n",
    "            id_meteorologia: toInteger(csvLine.id_meteorologia),\n",
    "            data_horario_coleta: datetime(replace(csvLine.data_horario_coleta, ' ', 'T')),\n",
    "            temperatura_max: toFloat(csvLine.temperatura_max),\n",
    "            temperatura_min: toFloat(csvLine.temperatura_min),\n",
    "            precipitacao: toFloat(csvLine.precipitacao),\n",
    "            umidade: toFloat(csvLine.umidade),\n",
    "            pressao_atm: toFloat(csvLine.pressao_atm),\n",
    "            vento_velocidade: toFloat(csvLine.vento_velocidade)\n",
    "        }]->(c)\n",
    "        \"\"\"\n",
    "        )"
   ]
  }
 ],
 "metadata": {
  "kernelspec": {
   "display_name": "mc536",
   "language": "python",
   "name": "python3"
  },
  "language_info": {
   "codemirror_mode": {
    "name": "ipython",
    "version": 3
   },
   "file_extension": ".py",
   "mimetype": "text/x-python",
   "name": "python",
   "nbconvert_exporter": "python",
   "pygments_lexer": "ipython3",
   "version": "3.13.2"
  }
 },
 "nbformat": 4,
 "nbformat_minor": 5
}

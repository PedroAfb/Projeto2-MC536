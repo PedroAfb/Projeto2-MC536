{
 "cells": [
  {
   "cell_type": "code",
   "execution_count": 1,
   "id": "b2c19bcb",
   "metadata": {},
   "outputs": [],
   "source": [
    "from neo4j import GraphDatabase\n",
    "import DATABASE_CONFIG\n",
    "\n",
    "# URI examples: \"neo4j://localhost\", \"neo4j+s://xxx.databases.neo4j.io\"\n",
    "URI = \"neo4j://localhost\"\n",
    "AUTH = (\"neo4j\", DATABASE_CONFIG.DB_PASSWORD)"
   ]
  },
  {
   "cell_type": "code",
   "execution_count": 2,
   "id": "fdc62e17",
   "metadata": {},
   "outputs": [],
   "source": [
    "with GraphDatabase.driver(URI, auth=AUTH) as driver:\n",
    "    driver.verify_connectivity()\n",
    "    driver.execute_query(\n",
    "        \"CREATE CONSTRAINT id_emissao_constraint FOR (r:RelatorioEmissaoGasesAnual) REQUIRE r.id_emissao IS UNIQUE\"\n",
    "    )\n",
    "    driver.execute_query(\n",
    "        \"CREATE CONSTRAINT ano_emissao_constraint FOR (r:RelatorioEmissaoGasesAnual) REQUIRE r.ano IS UNIQUE\"\n",
    "    )"
   ]
  },
  {
   "cell_type": "code",
   "execution_count": 3,
   "id": "2fac98b6",
   "metadata": {},
   "outputs": [],
   "source": [
    "with GraphDatabase.driver(URI, auth=AUTH) as driver:\n",
    "    driver.verify_connectivity()\n",
    "    driver.execute_query(\n",
    "        \"LOAD CSV WITH HEADERS FROM 'file:///relatorio_emissao_gases_anual.csv' AS csvLine \"\n",
    "        \"CREATE (r:RelatorioEmissaoGasesAnual {id_emissao: toInteger(csvLine.id_emissao), ano: toInteger(csvLine.ano), co2_1a_ordem: toFloat(csvLine.co2_1a_ordem), \"\n",
    "        \"co2_2a_ordem: toFloat(csvLine.co2_2a_ordem), co2_por_fogo: toFloat(csvLine.co2_por_fogo), co2_por_decaimento: toFloat(csvLine.co2_por_decaimento), \"\n",
    "        \"ch4_eq_fogo: toFloat(csvLine.ch4_eq_fogo), no2_eq_fogo: toFloat(csvLine.no2_eq_fogo), net_co2_1a_ordem: toFloat(csvLine.net_co2_1a_ordem), \"\n",
    "        \"net_co2_2a_ordem: toFloat(csvLine.net_co2_2a_ordem), area_total_secundaria: toFloat(csvLine.area_total_secundaria), area_cortada: toFloat(csvLine.area_cortada), \"\n",
    "        \"co2_emitido_secundaria: toFloat(csvLine.co2_emitido_secundaria), co2_absorvido_secundaria: toFloat(csvLine.co2_absorvido_secundaria)})\"\n",
    "    )"
   ]
  },
  {
   "cell_type": "code",
   "execution_count": 4,
   "id": "1b93b261",
   "metadata": {},
   "outputs": [],
   "source": [
    "with GraphDatabase.driver(URI, auth=AUTH) as driver:\n",
    "    driver.verify_connectivity()\n",
    "    driver.execute_query(\n",
    "        \"LOAD CSV WITH HEADERS FROM 'file:///relatorio_emissao_gases_anual.csv' AS csvLine \"\n",
    "        \"MATCH (rg:RegiaoAdministrativa {id_regiao_administrativa: toInteger(csvLine.id_regiao_administrativa)}) \"\n",
    "        \"MATCH (r:RelatorioEmissaoGasesAnual {id_emissao: toInteger(csvLine.id_emissao)}) \"\n",
    "        \"MERGE (rg)-[:Possui]->(r) \"\n",
    "        )"
   ]
  }
 ],
 "metadata": {
  "kernelspec": {
   "display_name": "mc536",
   "language": "python",
   "name": "python3"
  },
  "language_info": {
   "codemirror_mode": {
    "name": "ipython",
    "version": 3
   },
   "file_extension": ".py",
   "mimetype": "text/x-python",
   "name": "python",
   "nbconvert_exporter": "python",
   "pygments_lexer": "ipython3",
   "version": "3.13.2"
  }
 },
 "nbformat": 4,
 "nbformat_minor": 5
}

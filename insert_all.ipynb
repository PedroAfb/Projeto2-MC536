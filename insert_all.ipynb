{
 "cells": [
  {
   "cell_type": "code",
   "execution_count": null,
   "id": "4ed0c551",
   "metadata": {},
   "outputs": [],
   "source": [
    "%run insert_area_indigena.ipynb"
   ]
  },
  {
   "cell_type": "code",
   "execution_count": null,
   "id": "3a861efc",
   "metadata": {},
   "outputs": [],
   "source": [
    "%run insert_estado_&_rg.ipynb"
   ]
  },
  {
   "cell_type": "code",
   "execution_count": null,
   "id": "937b8587",
   "metadata": {},
   "outputs": [],
   "source": [
    "%run insert_emissao.ipynb"
   ]
  },
  {
   "cell_type": "code",
   "execution_count": null,
   "id": "6c1625ec",
   "metadata": {},
   "outputs": [],
   "source": [
    "%run insert_queimadas.ipynb"
   ]
  },
  {
   "cell_type": "code",
   "execution_count": null,
   "id": "bb93b3eb",
   "metadata": {},
   "outputs": [],
   "source": [
    "%run insert_cidade.ipynb"
   ]
  },
  {
   "cell_type": "code",
   "execution_count": null,
   "id": "f7cdbe09",
   "metadata": {},
   "outputs": [],
   "source": [
    "%run insert_unidade_conservacao.ipynb"
   ]
  },
  {
   "cell_type": "code",
   "execution_count": null,
   "id": "0fcf5c36",
   "metadata": {},
   "outputs": [],
   "source": [
    "%run insert_desmatamento.ipynb"
   ]
  },
  {
   "cell_type": "code",
   "execution_count": null,
   "id": "7bfb6bd6",
   "metadata": {},
   "outputs": [],
   "source": [
    "%run insert_estacao_meteorologica.ipynb"
   ]
  }
 ],
 "metadata": {
  "language_info": {
   "name": "python"
  }
 },
 "nbformat": 4,
 "nbformat_minor": 5
}

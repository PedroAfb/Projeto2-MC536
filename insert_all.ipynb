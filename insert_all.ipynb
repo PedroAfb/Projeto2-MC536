{
 "cells": [
  {
   "cell_type": "markdown",
   "id": "0350b7d0",
   "metadata": {},
   "source": [
    "### Setup e Configuração Inicial\n",
    "\n",
    "Para rodar este projeto, você precisa:\n",
    "\n",
    "1. **Instalar as dependências:**\n",
    "   ```bash\n",
    "   pip install neo4j nbformat psycopg2-binary\n",
    "   ```\n",
    "\n",
    "2. **Possuir o banco Postgres com os dados do [Projeto 1](https://github.com/PedroAfb/MC536)**\n",
    "   - Execute o passo a passo do Projeto 1 para ir para a próxima etapa\n",
    "   - **Configure a primeira célula do arquivo `postgres_csvs.ipynb` e execute a próxima célula desse notebook para obter os CSVs de nossos dados**\n",
    "\n",
    "3. **Configurar o banco Neo4j:**\n",
    "   - Altere sua senha no arquivo `DATABASE_CONFIG.py`\n",
    "   - Para Neo4j Desktop: coloque os CSVs na pasta de importação\n",
    "   - Para Neo4j Aura (remoto): faça upload dos CSVs via interface web\n",
    "\n",
    "4. **Localizar a pasta de importação (Neo4j Desktop):**\n",
    "   - Clique no nome do banco → \"...\" → \"Open Folder\" → \"Import Folder\"\n",
    "   - Coloque todos os arquivos .csv nessa pasta\n",
    "   - ⚠️ Apenas arquivos dentro dessa pasta podem ser lidos por LOAD CSV\n",
    "\n",
    "5. **Para Neo4j Aura (banco remoto):**\n",
    "   - Acesse o Neo4j Aura Console\n",
    "   - Vá em \"Import\" → \"Upload Files\"\n",
    "   - Faça upload de todos os arquivos CSV necessários"
   ]
  },
  {
   "cell_type": "markdown",
   "id": "334fa5ec",
   "metadata": {},
   "source": [
    "### Download dos CSVs do Projeto"
   ]
  },
  {
   "cell_type": "code",
   "execution_count": null,
   "id": "fdd0273f",
   "metadata": {},
   "outputs": [],
   "source": [
    "%run postgres_csvs.ipynb"
   ]
  },
  {
   "cell_type": "markdown",
   "id": "d3cd4339",
   "metadata": {},
   "source": [
    "### 2. Inserção de Áreas Indígenas\n",
    "Cria os nós de Áreas Indígenas que serão referenciados pelos relatórios de desmatamento e outros dados ambientais."
   ]
  },
  {
   "cell_type": "code",
   "execution_count": 7,
   "id": "4ed0c551",
   "metadata": {},
   "outputs": [],
   "source": [
    "%run insert_area_indigena.ipynb"
   ]
  },
  {
   "cell_type": "markdown",
   "id": "dc4418fc",
   "metadata": {},
   "source": [
    "### 3. Inserção de Relatórios de Emissão de Gases\n",
    "Cria os nós de relatórios anuais de emissão de gases de efeito estufa e os conecta às regiões administrativas correspondentes."
   ]
  },
  {
   "cell_type": "code",
   "execution_count": 8,
   "id": "937b8587",
   "metadata": {},
   "outputs": [],
   "source": [
    "%run insert_emissao.ipynb"
   ]
  },
  {
   "cell_type": "markdown",
   "id": "ba938d69",
   "metadata": {},
   "source": [
    "### 4. Inserção de Relatórios de Focos de Queimadas\n",
    "Cria os nós de relatórios de focos de queimadas com informações mensais sobre quantidade e tipo de área afetada."
   ]
  },
  {
   "cell_type": "code",
   "execution_count": 9,
   "id": "6c1625ec",
   "metadata": {},
   "outputs": [],
   "source": [
    "%run insert_queimadas.ipynb"
   ]
  },
  {
   "cell_type": "markdown",
   "id": "c20973c3",
   "metadata": {},
   "source": [
    "### 5. Inserção de Cidades\n",
    "Cria os nós de Cidades e estabelece suas relações com os Estados correspondentes."
   ]
  },
  {
   "cell_type": "code",
   "execution_count": 10,
   "id": "bb93b3eb",
   "metadata": {},
   "outputs": [],
   "source": [
    "%run insert_cidade.ipynb"
   ]
  },
  {
   "cell_type": "markdown",
   "id": "b212f58d",
   "metadata": {},
   "source": [
    "### 6. Inserção de Unidades de Conservação\n",
    "Cria os nós de Unidades de Conservação com suas propriedades (categoria, esfera administrativa, área) e estabelece relações bidirecionais com Cidades e Estados."
   ]
  },
  {
   "cell_type": "code",
   "execution_count": 11,
   "id": "f7cdbe09",
   "metadata": {},
   "outputs": [
    {
     "name": "stdout",
     "output_type": "stream",
     "text": [
      "Relacionamentos criados com sucesso!\n"
     ]
    }
   ],
   "source": [
    "%run insert_unidade_conservacao.ipynb"
   ]
  },
  {
   "cell_type": "markdown",
   "id": "cf6cd98d",
   "metadata": {},
   "source": [
    "### 7. Inserção de Relatórios de Desmatamento\n",
    "Cria os nós de relatórios de desmatamento e estabelece relações condicionais com Áreas Indígenas, Cidades ou Unidades de Conservação, dependendo do local onde ocorreu o desmatamento."
   ]
  },
  {
   "cell_type": "code",
   "execution_count": 12,
   "id": "0fcf5c36",
   "metadata": {},
   "outputs": [
    {
     "name": "stderr",
     "output_type": "stream",
     "text": [
      "Received notification from DBMS server: {severity: WARNING} {code: Neo.ClientNotification.Statement.FeatureDeprecationWarning} {category: DEPRECATION} {title: This feature is deprecated and will be removed in future versions.} {description: CALL subquery without a variable scope clause is now deprecated. Use CALL (d, csvLine) { ... }} {position: line: 5, column: 9, offset: 187} for query: \"\\n        LOAD CSV WITH HEADERS FROM 'file:///relatorio_desmatamento.csv' AS csvLine\\n        MATCH (d:RelatorioDesmatamento {id_desmatamento: toInteger(csvLine.id_desmatamento)})\\n\\n        CALL {\\n            WITH d, csvLine\\n            OPTIONAL MATCH (a:AreaIndigena {id_area_indigena: toInteger(csvLine.id_area_indigena)})\\n            WHERE a IS NOT NULL\\n            FOREACH (_ IN CASE WHEN a IS NOT NULL THEN [1] ELSE [] END |\\n                MERGE (d)-[:Ocorreu_Em]->(a)\\n            )\\n        }\\n\\n        CALL {\\n            WITH d, csvLine\\n            OPTIONAL MATCH (c:Cidade {id_cidade: toInteger(csvLine.id_cidade)})\\n            WHERE c IS NOT NULL\\n            FOREACH (_ IN CASE WHEN c IS NOT NULL THEN [1] ELSE [] END |\\n                MERGE (d)-[:Ocorreu_Em]->(c)\\n            )\\n        }\\n\\n        CALL {\\n            WITH d, csvLine\\n            OPTIONAL MATCH (u:UnidadeConservacao {id_unidade_conservacao: toInteger(csvLine.id_unidade_conservacao)})\\n            WHERE u IS NOT NULL\\n            FOREACH (_ IN CASE WHEN u IS NOT NULL THEN [1] ELSE [] END |\\n                MERGE (d)-[:Ocorreu_Em]->(u)\\n            )\\n        }\\n        \"\n",
      "Received notification from DBMS server: {severity: WARNING} {code: Neo.ClientNotification.Statement.FeatureDeprecationWarning} {category: DEPRECATION} {title: This feature is deprecated and will be removed in future versions.} {description: CALL subquery without a variable scope clause is now deprecated. Use CALL (d, csvLine) { ... }} {position: line: 14, column: 9, offset: 505} for query: \"\\n        LOAD CSV WITH HEADERS FROM 'file:///relatorio_desmatamento.csv' AS csvLine\\n        MATCH (d:RelatorioDesmatamento {id_desmatamento: toInteger(csvLine.id_desmatamento)})\\n\\n        CALL {\\n            WITH d, csvLine\\n            OPTIONAL MATCH (a:AreaIndigena {id_area_indigena: toInteger(csvLine.id_area_indigena)})\\n            WHERE a IS NOT NULL\\n            FOREACH (_ IN CASE WHEN a IS NOT NULL THEN [1] ELSE [] END |\\n                MERGE (d)-[:Ocorreu_Em]->(a)\\n            )\\n        }\\n\\n        CALL {\\n            WITH d, csvLine\\n            OPTIONAL MATCH (c:Cidade {id_cidade: toInteger(csvLine.id_cidade)})\\n            WHERE c IS NOT NULL\\n            FOREACH (_ IN CASE WHEN c IS NOT NULL THEN [1] ELSE [] END |\\n                MERGE (d)-[:Ocorreu_Em]->(c)\\n            )\\n        }\\n\\n        CALL {\\n            WITH d, csvLine\\n            OPTIONAL MATCH (u:UnidadeConservacao {id_unidade_conservacao: toInteger(csvLine.id_unidade_conservacao)})\\n            WHERE u IS NOT NULL\\n            FOREACH (_ IN CASE WHEN u IS NOT NULL THEN [1] ELSE [] END |\\n                MERGE (d)-[:Ocorreu_Em]->(u)\\n            )\\n        }\\n        \"\n",
      "Received notification from DBMS server: {severity: WARNING} {code: Neo.ClientNotification.Statement.FeatureDeprecationWarning} {category: DEPRECATION} {title: This feature is deprecated and will be removed in future versions.} {description: CALL subquery without a variable scope clause is now deprecated. Use CALL (d, csvLine) { ... }} {position: line: 23, column: 9, offset: 803} for query: \"\\n        LOAD CSV WITH HEADERS FROM 'file:///relatorio_desmatamento.csv' AS csvLine\\n        MATCH (d:RelatorioDesmatamento {id_desmatamento: toInteger(csvLine.id_desmatamento)})\\n\\n        CALL {\\n            WITH d, csvLine\\n            OPTIONAL MATCH (a:AreaIndigena {id_area_indigena: toInteger(csvLine.id_area_indigena)})\\n            WHERE a IS NOT NULL\\n            FOREACH (_ IN CASE WHEN a IS NOT NULL THEN [1] ELSE [] END |\\n                MERGE (d)-[:Ocorreu_Em]->(a)\\n            )\\n        }\\n\\n        CALL {\\n            WITH d, csvLine\\n            OPTIONAL MATCH (c:Cidade {id_cidade: toInteger(csvLine.id_cidade)})\\n            WHERE c IS NOT NULL\\n            FOREACH (_ IN CASE WHEN c IS NOT NULL THEN [1] ELSE [] END |\\n                MERGE (d)-[:Ocorreu_Em]->(c)\\n            )\\n        }\\n\\n        CALL {\\n            WITH d, csvLine\\n            OPTIONAL MATCH (u:UnidadeConservacao {id_unidade_conservacao: toInteger(csvLine.id_unidade_conservacao)})\\n            WHERE u IS NOT NULL\\n            FOREACH (_ IN CASE WHEN u IS NOT NULL THEN [1] ELSE [] END |\\n                MERGE (d)-[:Ocorreu_Em]->(u)\\n            )\\n        }\\n        \"\n"
     ]
    }
   ],
   "source": [
    "%run insert_desmatamento.ipynb"
   ]
  },
  {
   "cell_type": "markdown",
   "id": "44920143",
   "metadata": {},
   "source": [
    "### 8. Inserção de Estações Meteorológicas\n",
    "Cria os nós de Estações Meteorológicas e suas relações com as localidades correspondentes."
   ]
  },
  {
   "cell_type": "code",
   "execution_count": 13,
   "id": "7bfb6bd6",
   "metadata": {},
   "outputs": [],
   "source": [
    "%run insert_estacao_meteorologica.ipynb"
   ]
  }
 ],
 "metadata": {
  "kernelspec": {
   "display_name": ".venv",
   "language": "python",
   "name": "python3"
  },
  "language_info": {
   "codemirror_mode": {
    "name": "ipython",
    "version": 3
   },
   "file_extension": ".py",
   "mimetype": "text/x-python",
   "name": "python",
   "nbconvert_exporter": "python",
   "pygments_lexer": "ipython3",
   "version": "3.12.3"
  }
 },
 "nbformat": 4,
 "nbformat_minor": 5
}

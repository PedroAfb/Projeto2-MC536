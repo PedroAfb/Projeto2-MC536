{
 "cells": [
  {
   "cell_type": "code",
   "execution_count": 1,
   "id": "08eb23dc",
   "metadata": {},
   "outputs": [],
   "source": [
    "\n",
    "from neo4j import GraphDatabase\n",
    "\n",
    "# URI examples: \"neo4j://localhost\", \"neo4j+s://xxx.databases.neo4j.io\"\n",
    "URI = \"neo4j://localhost\"\n",
    "AUTH = (\"neo4j\", \"GSW30_curry\")\n",
    "\n"
   ]
  },
  {
   "cell_type": "code",
   "execution_count": 2,
   "id": "5d345af5",
   "metadata": {},
   "outputs": [],
   "source": [
    "with GraphDatabase.driver(URI, auth=AUTH) as driver:\n",
    "    driver.verify_connectivity()\n",
    "    driver.execute_query(\n",
    "        \"CREATE CONSTRAINT id_unidade_conservacao_constraint FOR (r:UnidadeConservacao) REQUIRE r.id_unidade_conservacao IS UNIQUE\"\n",
    "    )\n",
    "    driver.execute_query(\n",
    "        \"CREATE CONSTRAINT nome_unidade_conservacao_constraint FOR (r:UnidadeConservacao) REQUIRE r.nome IS UNIQUE\"\n",
    "    )"
   ]
  },
  {
   "cell_type": "code",
   "execution_count": 3,
   "id": "5ea66fe3",
   "metadata": {},
   "outputs": [],
   "source": [
    "with GraphDatabase.driver(URI, auth=AUTH) as driver:\n",
    "    driver.verify_connectivity()\n",
    "    driver.execute_query(\n",
    "        \"LOAD CSV WITH HEADERS FROM 'http://localhost:11001/project-013a6b60-6f90-4782-9618-c6b239c477da/unidade_conservacao.csv' AS csvLine \"\n",
    "        \"CREATE (r:UnidadeConservacao {id_unidade_conservacao: toInteger(csvLine.id_unidade_conservacao), nome: csvLine.nome, categoria: csvLine.categoria, \"\n",
    "        \"esfera_administrativa: csvLine.esfera_administrativa, tipo: csvLine.tipo, area_amazonia_ha: toFloat(csvLine.area_amazonia_ha)})\"\n",
    "    )"
   ]
  },
  {
   "cell_type": "code",
   "execution_count": 4,
   "id": "7f8a8062",
   "metadata": {},
   "outputs": [],
   "source": [
    "with GraphDatabase.driver(URI, auth=AUTH) as driver:\n",
    "    driver.verify_connectivity()\n",
    "    driver.execute_query(\n",
    "        \"LOAD CSV WITH HEADERS FROM 'http://localhost:11001/project-013a6b60-6f90-4782-9618-c6b239c477da/unidade_conservacao.csv' AS csvLine \"\n",
    "        \"MATCH (e:Estado {id_estado: toInteger(csvLine.id_estado)}) \"\n",
    "        \"MATCH (uc:UnidadeConservacao {id_unidade_conservacao: toInteger(csvLine.id_unidade_conservacao)}) \"\n",
    "        \"MERGE (uc)-[:Pertence]->(e) \"\n",
    "        )"
   ]
  }
 ],
 "metadata": {
  "kernelspec": {
   "display_name": ".venv",
   "language": "python",
   "name": "python3"
  },
  "language_info": {
   "codemirror_mode": {
    "name": "ipython",
    "version": 3
   },
   "file_extension": ".py",
   "mimetype": "text/x-python",
   "name": "python",
   "nbconvert_exporter": "python",
   "pygments_lexer": "ipython3",
   "version": "3.12.3"
  }
 },
 "nbformat": 4,
 "nbformat_minor": 5
}

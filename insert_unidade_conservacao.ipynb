{
 "cells": [
  {
   "cell_type": "code",
   "execution_count": 12,
   "id": "08eb23dc",
   "metadata": {},
   "outputs": [],
   "source": [
    "from neo4j import GraphDatabase\n",
    "import DATABASE_CONFIG\n",
    "\n",
    "# URI examples: \"neo4j://localhost\", \"neo4j+s://xxx.databases.neo4j.io\"\n",
    "URI = \"neo4j://localhost\"\n",
    "AUTH = (\"neo4j\", DATABASE_CONFIG.DB_PASSWORD)"
   ]
  },
  {
   "cell_type": "code",
   "execution_count": 13,
   "id": "5d345af5",
   "metadata": {},
   "outputs": [],
   "source": [
    "with GraphDatabase.driver(URI, auth=AUTH) as driver:\n",
    "    driver.verify_connectivity()\n",
    "    driver.execute_query(\n",
    "        \"CREATE CONSTRAINT id_unidade_conservacao_constraint FOR (r:UnidadeConservacao) REQUIRE r.id_unidade_conservacao IS UNIQUE\"\n",
    "    )\n",
    "    driver.execute_query(\n",
    "        \"CREATE CONSTRAINT nome_unidade_conservacao_constraint FOR (r:UnidadeConservacao) REQUIRE r.nome IS UNIQUE\"\n",
    "    )"
   ]
  },
  {
   "cell_type": "code",
   "execution_count": 14,
   "id": "5ea66fe3",
   "metadata": {},
   "outputs": [],
   "source": [
    "with GraphDatabase.driver(URI, auth=AUTH) as driver:\n",
    "    driver.verify_connectivity()\n",
    "    driver.execute_query(\n",
    "        \"LOAD CSV WITH HEADERS FROM 'file:///unidade_conservacao.csv' AS csvLine \"\n",
    "        \"CREATE (r:UnidadeConservacao {id_unidade_conservacao: toInteger(csvLine.id_unidade_conservacao), nome: csvLine.nome, categoria: csvLine.categoria, \"\n",
    "        \"esfera_administrativa: csvLine.esfera_administrativa, tipo: csvLine.tipo, area_amazonia_ha: toFloat(csvLine.area_amazonia_ha)})\"\n",
    "    )"
   ]
  },
  {
   "cell_type": "code",
   "execution_count": 15,
   "id": "7f8a8062",
   "metadata": {},
   "outputs": [],
   "source": [
    "with GraphDatabase.driver(URI, auth=AUTH) as driver:\n",
    "    driver.verify_connectivity()\n",
    "    driver.execute_query(\n",
    "        \"LOAD CSV WITH HEADERS FROM 'file:///unidade_conservacao.csv' AS csvLine \"\n",
    "        \"MATCH (e:Estado {id_estado: toInteger(csvLine.id_estado)}) \"\n",
    "        \"MATCH (uc:UnidadeConservacao {id_unidade_conservacao: toInteger(csvLine.id_unidade_conservacao)}) \"\n",
    "        \"MERGE (uc)-[:Pertence]->(e) \"\n",
    "        )"
   ]
  },
  {
   "cell_type": "code",
   "execution_count": 16,
   "id": "a9ff0dfe",
   "metadata": {},
   "outputs": [
    {
     "name": "stdout",
     "output_type": "stream",
     "text": [
      "Relacionamentos criados com sucesso!\n"
     ]
    }
   ],
   "source": [
    "try:\n",
    "    with GraphDatabase.driver(URI, auth=AUTH) as driver:\n",
    "        driver.verify_connectivity()\n",
    "        driver.execute_query(\n",
    "            \"LOAD CSV WITH HEADERS FROM 'file:///cidade_unidade_conservacao.csv' AS csvLine \"\n",
    "            \"MATCH (c:Cidade {id_cidade: toInteger(csvLine.cidade_id_cidade)}) \"\n",
    "            \"MATCH (u:UnidadeConservacao {id_unidade_conservacao: toInteger(csvLine.unidade_conservacao_id_unidade_conservacao)}) \"\n",
    "            \"MERGE (c)-[:Abrange]->(u) \"\n",
    "            \"MERGE (u)-[:Abrange]->(c)\"\n",
    "        )\n",
    "    print(\"Relacionamentos criados com sucesso!\")\n",
    "except Exception as e:\n",
    "    print(f\"Ocorreu um erro: {e}\")"
   ]
  }
 ],
 "metadata": {
  "kernelspec": {
   "display_name": "mc536",
   "language": "python",
   "name": "python3"
  },
  "language_info": {
   "codemirror_mode": {
    "name": "ipython",
    "version": 3
   },
   "file_extension": ".py",
   "mimetype": "text/x-python",
   "name": "python",
   "nbconvert_exporter": "python",
   "pygments_lexer": "ipython3",
   "version": "3.13.2"
  }
 },
 "nbformat": 4,
 "nbformat_minor": 5
}

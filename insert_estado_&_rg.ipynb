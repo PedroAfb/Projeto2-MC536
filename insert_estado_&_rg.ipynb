{
 "cells": [
  {
   "cell_type": "code",
   "execution_count": null,
   "id": "147d8cf5",
   "metadata": {},
   "outputs": [],
   "source": [
    "\n",
    "from neo4j import GraphDatabase\n",
    "\n",
    "# URI examples: \"neo4j://localhost\", \"neo4j+s://xxx.databases.neo4j.io\"\n",
    "URI = \"neo4j://localhost\"\n",
    "AUTH = (\"neo4j\", \"\")\n",
    "\n",
    "with GraphDatabase.driver(URI, auth=AUTH) as driver:\n",
    "    driver.verify_connectivity()\n",
    "    driver.execute_query(\n",
    "        \"CREATE CONSTRAINT id_estado_constraint FOR (estado:Estado) REQUIRE estado.id_estado IS UNIQUE\"\n",
    "    )"
   ]
  },
  {
   "cell_type": "code",
   "execution_count": 9,
   "id": "485c8e81",
   "metadata": {},
   "outputs": [],
   "source": [
    "with GraphDatabase.driver(URI, auth=AUTH) as driver:\n",
    "    driver.verify_connectivity()\n",
    "    driver.execute_query(\n",
    "        \"LOAD CSV WITH HEADERS FROM 'http://localhost:11001/project-013a6b60-6f90-4782-9618-c6b239c477da/estado.csv' AS csvLine \"\n",
    "        \"CREATE (e:Estado {id_estado: toInteger(csvLine.id_estado), nome: csvLine.nome, uf: csvLine.uf})\"\n",
    "    )"
   ]
  },
  {
   "cell_type": "code",
   "execution_count": 10,
   "id": "51246b4c",
   "metadata": {},
   "outputs": [],
   "source": [
    "with GraphDatabase.driver(URI, auth=AUTH) as driver:\n",
    "    driver.verify_connectivity()\n",
    "    driver.execute_query(\n",
    "        \"CREATE CONSTRAINT id_regiao_administrativa_constraint FOR (regiao:RegiaoAdministrativa) REQUIRE regiao.id_regiao_administrativa IS UNIQUE\"\n",
    "    )"
   ]
  },
  {
   "cell_type": "code",
   "execution_count": 14,
   "id": "ed55f41b",
   "metadata": {},
   "outputs": [
    {
     "name": "stdout",
     "output_type": "stream",
     "text": [
      "Relacionamentos criados com sucesso!\n"
     ]
    }
   ],
   "source": [
    "try:\n",
    "    with GraphDatabase.driver(URI, auth=AUTH) as driver:\n",
    "        driver.verify_connectivity()\n",
    "        driver.execute_query(\n",
    "            \"LOAD CSV WITH HEADERS FROM 'http://localhost:11001/project-013a6b60-6f90-4782-9618-c6b239c477da/estado_regiao_administrativa.csv' AS csvLine \"\n",
    "            \"MATCH (e:Estado {id_estado: toInteger(csvLine.estado_id_estado)}) \"\n",
    "            \"MATCH (r:RegiaoAdministrativa {id_regiao_administrativa: toInteger(csvLine.regiao_administrativa_id_regiao_administrativa)}) \"\n",
    "            \"MERGE (e)-[:Pertence]->(r) \"\n",
    "            \"MERGE (r)-[:Pertence]->(e)\"\n",
    "        )\n",
    "    print(\"Relacionamentos criados com sucesso!\")\n",
    "except Exception as e:\n",
    "    print(f\"Ocorreu um erro: {e}\")"
   ]
  }
 ],
 "metadata": {
  "kernelspec": {
   "display_name": ".venv",
   "language": "python",
   "name": "python3"
  },
  "language_info": {
   "codemirror_mode": {
    "name": "ipython",
    "version": 3
   },
   "file_extension": ".py",
   "mimetype": "text/x-python",
   "name": "python",
   "nbconvert_exporter": "python",
   "pygments_lexer": "ipython3",
   "version": "3.12.3"
  }
 },
 "nbformat": 4,
 "nbformat_minor": 5
}

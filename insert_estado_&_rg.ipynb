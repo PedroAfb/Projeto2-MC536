{
 "cells": [
  {
   "cell_type": "code",
   "execution_count": 13,
   "id": "147d8cf5",
   "metadata": {},
   "outputs": [],
   "source": [
    "from neo4j import GraphDatabase\n",
    "import DATABASE_CONFIG\n",
    "\n",
    "# URI examples: \"neo4j://localhost\", \"neo4j+s://xxx.databases.neo4j.io\"\n",
    "URI = \"neo4j://localhost\"\n",
    "AUTH = (\"neo4j\", DATABASE_CONFIG.DB_PASSWORD)"
   ]
  },
  {
   "cell_type": "code",
   "execution_count": null,
   "id": "7638188a",
   "metadata": {},
   "outputs": [],
   "source": [
    "with GraphDatabase.driver(URI, auth=AUTH) as driver:\n",
    "    driver.verify_connectivity()\n",
    "    driver.execute_query(\n",
    "        \"CREATE CONSTRAINT id_estado_constraint FOR (estado:Estado) REQUIRE estado.id_estado IS UNIQUE\"\n",
    "    )\n",
    "    driver.execute_query(\n",
    "        \"CREATE CONSTRAINT nome FOR (estado:Estado) REQUIRE estado.nome IS UNIQUE\"\n",
    "    )\n",
    "    driver.execute_query(\n",
    "        \"CREATE CONSTRAINT uf FOR (estado:Estado) REQUIRE estado.uf IS UNIQUE\"\n",
    "    )"
   ]
  },
  {
   "cell_type": "code",
   "execution_count": 16,
   "id": "485c8e81",
   "metadata": {},
   "outputs": [],
   "source": [
    "with GraphDatabase.driver(URI, auth=AUTH) as driver:\n",
    "    driver.verify_connectivity()\n",
    "    driver.execute_query(\n",
    "        \"LOAD CSV WITH HEADERS FROM 'file:///estado.csv' AS csvLine \"\n",
    "        \"CREATE (e:Estado {id_estado: toInteger(csvLine.id_estado), nome: csvLine.nome, uf: csvLine.uf})\"\n",
    "    )"
   ]
  },
  {
   "cell_type": "code",
   "execution_count": 17,
   "id": "51246b4c",
   "metadata": {},
   "outputs": [],
   "source": [
    "with GraphDatabase.driver(URI, auth=AUTH) as driver:\n",
    "    driver.verify_connectivity()\n",
    "    driver.execute_query(\n",
    "        \"CREATE CONSTRAINT id_regiao_administrativa_constraint FOR (regiao:RegiaoAdministrativa) REQUIRE regiao.id_regiao_administrativa IS UNIQUE\"\n",
    "    )\n",
    "    driver.execute_query(\n",
    "        \"CREATE CONSTRAINT nome_regiao_administrativa_constraint FOR (regiao:RegiaoAdministrativa) REQUIRE regiao.nome IS UNIQUE\"\n",
    "    )"
   ]
  },
  {
   "cell_type": "code",
   "execution_count": 18,
   "id": "57e10d8d",
   "metadata": {},
   "outputs": [],
   "source": [
    "with GraphDatabase.driver(URI, auth=AUTH) as driver:\n",
    "    driver.verify_connectivity()\n",
    "    driver.execute_query(\n",
    "        \"LOAD CSV WITH HEADERS FROM 'file:///regiao_administrativa.csv' AS csvLine \"\n",
    "        \"CREATE (e:RegiaoAdministrativa {id_regiao_administrativa: toInteger(csvLine.id_regiao_administrativa), nome: csvLine.nome})\"\n",
    "    )"
   ]
  },
  {
   "cell_type": "code",
   "execution_count": 19,
   "id": "ed55f41b",
   "metadata": {},
   "outputs": [
    {
     "name": "stdout",
     "output_type": "stream",
     "text": [
      "Relacionamentos criados com sucesso!\n"
     ]
    }
   ],
   "source": [
    "try:\n",
    "    with GraphDatabase.driver(URI, auth=AUTH) as driver:\n",
    "        driver.verify_connectivity()\n",
    "        driver.execute_query(\n",
    "            \"LOAD CSV WITH HEADERS FROM 'file:///estado_regiao_administrativa.csv' AS csvLine \"\n",
    "            \"MATCH (e:Estado {id_estado: toInteger(csvLine.estado_id_estado)}) \"\n",
    "            \"MATCH (r:RegiaoAdministrativa {id_regiao_administrativa: toInteger(csvLine.regiao_administrativa_id_regiao_administrativa)}) \"\n",
    "            \"MERGE (e)-[:Pertence]->(r) \"\n",
    "            \"MERGE (r)-[:Pertence]->(e)\"\n",
    "        )\n",
    "    print(\"Relacionamentos criados com sucesso!\")\n",
    "except Exception as e:\n",
    "    print(f\"Ocorreu um erro: {e}\")"
   ]
  }
 ],
 "metadata": {
  "kernelspec": {
   "display_name": ".venv",
   "language": "python",
   "name": "python3"
  },
  "language_info": {
   "codemirror_mode": {
    "name": "ipython",
    "version": 3
   },
   "file_extension": ".py",
   "mimetype": "text/x-python",
   "name": "python",
   "nbconvert_exporter": "python",
   "pygments_lexer": "ipython3",
   "version": "3.12.3"
  }
 },
 "nbformat": 4,
 "nbformat_minor": 5
}

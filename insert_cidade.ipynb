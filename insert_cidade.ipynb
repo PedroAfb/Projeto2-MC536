{
 "cells": [
  {
   "cell_type": "code",
   "execution_count": 1,
   "id": "7f5017ef",
   "metadata": {},
   "outputs": [],
   "source": [
    "from neo4j import GraphDatabase\n",
    "import DATABASE_CONFIG\n",
    "\n",
    "# URI examples: \"neo4j://localhost\", \"neo4j+s://xxx.databases.neo4j.io\"\n",
    "URI = \"neo4j://localhost\"\n",
    "AUTH = (\"neo4j\", DATABASE_CONFIG.DB_PASSWORD)"
   ]
  },
  {
   "cell_type": "code",
   "execution_count": 2,
   "id": "4f273ef5",
   "metadata": {},
   "outputs": [],
   "source": [
    "with GraphDatabase.driver(URI, auth=AUTH) as driver:\n",
    "    driver.verify_connectivity()\n",
    "    driver.execute_query(\n",
    "        \"CREATE CONSTRAINT id_cidade_constraint FOR (r:Cidade) REQUIRE r.id_cidade IS UNIQUE\"\n",
    "    )"
   ]
  },
  {
   "cell_type": "code",
   "execution_count": 3,
   "id": "a3f29c90",
   "metadata": {},
   "outputs": [],
   "source": [
    "# Não consegui deixar o nome_normalizado como UNIQUE\n",
    "with GraphDatabase.driver(URI, auth=AUTH) as driver:\n",
    "    driver.verify_connectivity()\n",
    "    driver.execute_query(\n",
    "        \"LOAD CSV WITH HEADERS FROM 'file:///cidade.csv' AS csvLine \"\n",
    "        \"CREATE (r:Cidade {id_cidade: toInteger(csvLine.id_cidade), nome: csvLine.nome, nome_normalizado: csvLine.nome_normalizado})\"\n",
    "    )"
   ]
  },
  {
   "cell_type": "code",
   "execution_count": 4,
   "id": "09996019",
   "metadata": {},
   "outputs": [],
   "source": [
    "with GraphDatabase.driver(URI, auth=AUTH) as driver:\n",
    "    driver.verify_connectivity()\n",
    "    driver.execute_query(\n",
    "        \"LOAD CSV WITH HEADERS FROM 'file:///cidade.csv' AS csvLine \"\n",
    "        \"MATCH (e:Estado {id_estado: toInteger(csvLine.id_estado)}) \"\n",
    "        \"MATCH (c:Cidade {id_cidade: toInteger(csvLine.id_cidade)}) \"\n",
    "        \"MERGE (c)-[:Pertence]->(e) \"\n",
    "        )"
   ]
  }
 ],
 "metadata": {
  "kernelspec": {
   "display_name": ".venv",
   "language": "python",
   "name": "python3"
  },
  "language_info": {
   "codemirror_mode": {
    "name": "ipython",
    "version": 3
   },
   "file_extension": ".py",
   "mimetype": "text/x-python",
   "name": "python",
   "nbconvert_exporter": "python",
   "pygments_lexer": "ipython3",
   "version": "3.12.3"
  }
 },
 "nbformat": 4,
 "nbformat_minor": 5
}

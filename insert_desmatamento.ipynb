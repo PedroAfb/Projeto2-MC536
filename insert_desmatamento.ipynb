{
 "cells": [
  {
   "cell_type": "code",
   "execution_count": 20,
   "id": "f110f09c",
   "metadata": {},
   "outputs": [],
   "source": [
    "from neo4j import GraphDatabase\n",
    "import DATABASE_CONFIG\n",
    "\n",
    "# URI examples: \"neo4j://localhost\", \"neo4j+s://xxx.databases.neo4j.io\"\n",
    "URI = \"neo4j://localhost\"\n",
    "AUTH = (\"neo4j\", DATABASE_CONFIG.DB_PASSWORD)"
   ]
  },
  {
   "cell_type": "code",
   "execution_count": null,
   "id": "2090ac80",
   "metadata": {},
   "outputs": [],
   "source": [
    "with GraphDatabase.driver(URI, auth=AUTH) as driver:\n",
    "    driver.verify_connectivity()\n",
    "    driver.execute_query(\n",
    "        \"CREATE CONSTRAINT id_desmatamento_constraint FOR (r:Desmatamento) REQUIRE r.id_desmatamento IS UNIQUE\"\n",
    "    )"
   ]
  },
  {
   "cell_type": "code",
   "execution_count": null,
   "id": "5fd2aeae",
   "metadata": {},
   "outputs": [],
   "source": [
    "with GraphDatabase.driver(URI, auth=AUTH) as driver:\n",
    "    driver.verify_connectivity()\n",
    "    driver.execute_query(\n",
    "        \"LOAD CSV WITH HEADERS FROM 'file:///relatorio_desmatamento.csv' AS csvLine \"\n",
    "        \"CREATE (r:Desmatamento {id_desmatamento: toInteger(csvLine.id_desmatamento), area_km2: toFloat(csvLine.area_km2), \" \\\n",
    "        \"ano: toInteger(csvLine.ano)})\"\n",
    "    )"
   ]
  },
  {
   "cell_type": "code",
   "execution_count": null,
   "id": "18718b8e",
   "metadata": {},
   "outputs": [
    {
     "name": "stderr",
     "output_type": "stream",
     "text": [
      "Received notification from DBMS server: {severity: WARNING} {code: Neo.ClientNotification.Statement.FeatureDeprecationWarning} {category: DEPRECATION} {title: This feature is deprecated and will be removed in future versions.} {description: CALL subquery without a variable scope clause is now deprecated. Use CALL (d, csvLine) { ... }} {position: line: 5, column: 9, offset: 187} for query: \"\\n        LOAD CSV WITH HEADERS FROM 'file:///relatorio_desmatamento.csv' AS csvLine\\n        MATCH (d:RelatorioDesmatamento {id_desmatamento: toInteger(csvLine.id_desmatamento)})\\n\\n        CALL {\\n            WITH d, csvLine\\n            OPTIONAL MATCH (a:AreaIndigena {id_area_indigena: toInteger(csvLine.id_area_indigena)})\\n            WHERE a IS NOT NULL\\n            FOREACH (_ IN CASE WHEN a IS NOT NULL THEN [1] ELSE [] END |\\n                MERGE (d)-[:Ocorreu_Em]->(a)\\n            )\\n        }\\n\\n        CALL {\\n            WITH d, csvLine\\n            OPTIONAL MATCH (c:Cidade {id_cidade: toInteger(csvLine.id_cidade)})\\n            WHERE c IS NOT NULL\\n            FOREACH (_ IN CASE WHEN c IS NOT NULL THEN [1] ELSE [] END |\\n                MERGE (d)-[:Ocorreu_Em]->(c)\\n            )\\n        }\\n\\n        CALL {\\n            WITH d, csvLine\\n            OPTIONAL MATCH (u:UnidadeConservacao {id_unidade_conservacao: toInteger(csvLine.id_unidade_conservacao)})\\n            WHERE u IS NOT NULL\\n            FOREACH (_ IN CASE WHEN u IS NOT NULL THEN [1] ELSE [] END |\\n                MERGE (d)-[:Ocorreu_Em]->(u)\\n            )\\n        }\\n        \"\n",
      "Received notification from DBMS server: {severity: WARNING} {code: Neo.ClientNotification.Statement.FeatureDeprecationWarning} {category: DEPRECATION} {title: This feature is deprecated and will be removed in future versions.} {description: CALL subquery without a variable scope clause is now deprecated. Use CALL (d, csvLine) { ... }} {position: line: 14, column: 9, offset: 505} for query: \"\\n        LOAD CSV WITH HEADERS FROM 'file:///relatorio_desmatamento.csv' AS csvLine\\n        MATCH (d:RelatorioDesmatamento {id_desmatamento: toInteger(csvLine.id_desmatamento)})\\n\\n        CALL {\\n            WITH d, csvLine\\n            OPTIONAL MATCH (a:AreaIndigena {id_area_indigena: toInteger(csvLine.id_area_indigena)})\\n            WHERE a IS NOT NULL\\n            FOREACH (_ IN CASE WHEN a IS NOT NULL THEN [1] ELSE [] END |\\n                MERGE (d)-[:Ocorreu_Em]->(a)\\n            )\\n        }\\n\\n        CALL {\\n            WITH d, csvLine\\n            OPTIONAL MATCH (c:Cidade {id_cidade: toInteger(csvLine.id_cidade)})\\n            WHERE c IS NOT NULL\\n            FOREACH (_ IN CASE WHEN c IS NOT NULL THEN [1] ELSE [] END |\\n                MERGE (d)-[:Ocorreu_Em]->(c)\\n            )\\n        }\\n\\n        CALL {\\n            WITH d, csvLine\\n            OPTIONAL MATCH (u:UnidadeConservacao {id_unidade_conservacao: toInteger(csvLine.id_unidade_conservacao)})\\n            WHERE u IS NOT NULL\\n            FOREACH (_ IN CASE WHEN u IS NOT NULL THEN [1] ELSE [] END |\\n                MERGE (d)-[:Ocorreu_Em]->(u)\\n            )\\n        }\\n        \"\n",
      "Received notification from DBMS server: {severity: WARNING} {code: Neo.ClientNotification.Statement.FeatureDeprecationWarning} {category: DEPRECATION} {title: This feature is deprecated and will be removed in future versions.} {description: CALL subquery without a variable scope clause is now deprecated. Use CALL (d, csvLine) { ... }} {position: line: 23, column: 9, offset: 803} for query: \"\\n        LOAD CSV WITH HEADERS FROM 'file:///relatorio_desmatamento.csv' AS csvLine\\n        MATCH (d:RelatorioDesmatamento {id_desmatamento: toInteger(csvLine.id_desmatamento)})\\n\\n        CALL {\\n            WITH d, csvLine\\n            OPTIONAL MATCH (a:AreaIndigena {id_area_indigena: toInteger(csvLine.id_area_indigena)})\\n            WHERE a IS NOT NULL\\n            FOREACH (_ IN CASE WHEN a IS NOT NULL THEN [1] ELSE [] END |\\n                MERGE (d)-[:Ocorreu_Em]->(a)\\n            )\\n        }\\n\\n        CALL {\\n            WITH d, csvLine\\n            OPTIONAL MATCH (c:Cidade {id_cidade: toInteger(csvLine.id_cidade)})\\n            WHERE c IS NOT NULL\\n            FOREACH (_ IN CASE WHEN c IS NOT NULL THEN [1] ELSE [] END |\\n                MERGE (d)-[:Ocorreu_Em]->(c)\\n            )\\n        }\\n\\n        CALL {\\n            WITH d, csvLine\\n            OPTIONAL MATCH (u:UnidadeConservacao {id_unidade_conservacao: toInteger(csvLine.id_unidade_conservacao)})\\n            WHERE u IS NOT NULL\\n            FOREACH (_ IN CASE WHEN u IS NOT NULL THEN [1] ELSE [] END |\\n                MERGE (d)-[:Ocorreu_Em]->(u)\\n            )\\n        }\\n        \"\n"
     ]
    }
   ],
   "source": [
    "with GraphDatabase.driver(URI, auth=AUTH) as driver:\n",
    "    driver.verify_connectivity()\n",
    "    driver.execute_query(\n",
    "        \"\"\"\n",
    "        LOAD CSV WITH HEADERS FROM 'file:///relatorio_desmatamento.csv' AS csvLine\n",
    "        MATCH (d:Desmatamento {id_desmatamento: toInteger(csvLine.id_desmatamento)})\n",
    "\n",
    "        CALL {\n",
    "            WITH d, csvLine\n",
    "            OPTIONAL MATCH (a:AreaIndigena {id_area_indigena: toInteger(csvLine.id_area_indigena)})\n",
    "            WHERE a IS NOT NULL\n",
    "            FOREACH (_ IN CASE WHEN a IS NOT NULL THEN [1] ELSE [] END |\n",
    "                MERGE (d)-[:Ocorreu_Em]->(a)\n",
    "            )\n",
    "        }\n",
    "\n",
    "        CALL {\n",
    "            WITH d, csvLine\n",
    "            OPTIONAL MATCH (c:Cidade {id_cidade: toInteger(csvLine.id_cidade)})\n",
    "            WHERE c IS NOT NULL\n",
    "            FOREACH (_ IN CASE WHEN c IS NOT NULL THEN [1] ELSE [] END |\n",
    "                MERGE (d)-[:Ocorreu_Em]->(c)\n",
    "            )\n",
    "        }\n",
    "\n",
    "        CALL {\n",
    "            WITH d, csvLine\n",
    "            OPTIONAL MATCH (u:UnidadeConservacao {id_unidade_conservacao: toInteger(csvLine.id_unidade_conservacao)})\n",
    "            WHERE u IS NOT NULL\n",
    "            FOREACH (_ IN CASE WHEN u IS NOT NULL THEN [1] ELSE [] END |\n",
    "                MERGE (d)-[:Ocorreu_Em]->(u)\n",
    "            )\n",
    "        }\n",
    "        \"\"\"\n",
    "        )"
   ]
  }
 ],
 "metadata": {
  "kernelspec": {
   "display_name": "mc536",
   "language": "python",
   "name": "python3"
  },
  "language_info": {
   "codemirror_mode": {
    "name": "ipython",
    "version": 3
   },
   "file_extension": ".py",
   "mimetype": "text/x-python",
   "name": "python",
   "nbconvert_exporter": "python",
   "pygments_lexer": "ipython3",
   "version": "3.13.2"
  }
 },
 "nbformat": 4,
 "nbformat_minor": 5
}
